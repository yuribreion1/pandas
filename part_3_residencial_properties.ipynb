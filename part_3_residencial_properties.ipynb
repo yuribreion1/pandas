{
 "metadata": {
  "language_info": {
   "codemirror_mode": {
    "name": "ipython",
    "version": 3
   },
   "file_extension": ".py",
   "mimetype": "text/x-python",
   "name": "python",
   "nbconvert_exporter": "python",
   "pygments_lexer": "ipython3",
   "version": "3.8.3-final"
  },
  "orig_nbformat": 2,
  "kernelspec": {
   "name": "Python 3.8.3 64-bit ('base': conda)",
   "display_name": "Python 3.8.3 64-bit ('base': conda)",
   "metadata": {
    "interpreter": {
     "hash": "dca0ade3e726a953b501b15e8e990130d2b7799f14cfd9f4271676035ebe5511"
    }
   }
  }
 },
 "nbformat": 4,
 "nbformat_minor": 2,
 "cells": [
  {
   "source": [
    "# This file will prepared a new dataset based on residential properties of original file"
   ],
   "cell_type": "markdown",
   "metadata": {}
  },
  {
   "cell_type": "code",
   "execution_count": 2,
   "metadata": {},
   "outputs": [],
   "source": [
    "# import pandas library\n",
    "import pandas as pd"
   ]
  },
  {
   "cell_type": "code",
   "execution_count": 3,
   "metadata": {},
   "outputs": [],
   "source": [
    "properties = pd.read_csv('/Users/yuribreion/Documents/Python/Pandas/Data Source/aluguel.csv', sep = ';')"
   ]
  },
  {
   "cell_type": "code",
   "execution_count": 4,
   "metadata": {},
   "outputs": [],
   "source": [
    "# getting property types \n",
    "list(properties['Tipo'].drop_duplicates())\n",
    "# creating a new variable with only required property types\n",
    "residential = ['Quitinete',\n",
    " 'Casa',\n",
    " 'Apartamento',\n",
    " 'Casa de Condomínio',\n",
    " 'Casa de Vila']"
   ]
  },
  {
   "cell_type": "code",
   "execution_count": 5,
   "metadata": {},
   "outputs": [
    {
     "output_type": "execute_result",
     "data": {
      "text/plain": [
       "0      True\n",
       "1      True\n",
       "2     False\n",
       "3      True\n",
       "4      True\n",
       "5      True\n",
       "6      True\n",
       "7      True\n",
       "8      True\n",
       "9     False\n",
       "10     True\n",
       "11     True\n",
       "12     True\n",
       "13     True\n",
       "14     True\n",
       "15     True\n",
       "16    False\n",
       "17    False\n",
       "18     True\n",
       "19     True\n",
       "Name: Tipo, dtype: bool"
      ]
     },
     "metadata": {},
     "execution_count": 5
    }
   ],
   "source": [
    "# getting only records that match the property type\n",
    "properties['Tipo'].isin(residential).head(20)"
   ]
  },
  {
   "cell_type": "code",
   "execution_count": 6,
   "metadata": {},
   "outputs": [],
   "source": [
    "# getting only properties required\n",
    "residential_properties = properties['Tipo'].isin(residential)\n",
    "residential_properties_dataframe = properties[residential_properties]"
   ]
  },
  {
   "cell_type": "code",
   "execution_count": 7,
   "metadata": {},
   "outputs": [
    {
     "output_type": "execute_result",
     "data": {
      "text/plain": [
       "                  Tipo                    Bairro  Quartos  Vagas  Suites  \\\n",
       "0            Quitinete                Copacabana        1      0       0   \n",
       "1                 Casa           Jardim Botânico        2      0       1   \n",
       "2          Apartamento                    Centro        1      0       0   \n",
       "3          Apartamento              Higienópolis        1      0       0   \n",
       "4          Apartamento              Vista Alegre        3      1       0   \n",
       "5          Apartamento                  Cachambi        2      0       0   \n",
       "6   Casa de Condomínio           Barra da Tijuca        5      4       5   \n",
       "7   Casa de Condomínio                     Ramos        2      2       0   \n",
       "8          Apartamento                    Centro        1      0       0   \n",
       "9          Apartamento                    Grajaú        2      1       0   \n",
       "10         Apartamento       Lins de Vasconcelos        3      1       1   \n",
       "11         Apartamento                Copacabana        1      0       1   \n",
       "12           Quitinete                Copacabana        1      0       0   \n",
       "13         Apartamento                Copacabana        4      3       1   \n",
       "14  Casa de Condomínio                   Taquara        3      1       1   \n",
       "15         Apartamento   Freguesia (Jacarepaguá)        3      0       0   \n",
       "16         Apartamento           Barra da Tijuca        2      1       1   \n",
       "17         Apartamento                    Tijuca        2      1       0   \n",
       "18  Casa de Condomínio           Barra da Tijuca        4      3       2   \n",
       "19         Apartamento                    Olaria        3      1       0   \n",
       "20         Apartamento                    Tijuca        2      1       0   \n",
       "21         Apartamento                   Ipanema        3      1       1   \n",
       "22         Apartamento                    Tijuca        1      0       0   \n",
       "23         Apartamento           Barra da Tijuca        3      3       1   \n",
       "24                Casa              Campo Grande        4      1       2   \n",
       "25         Apartamento                  Botafogo        2      1       0   \n",
       "26         Apartamento                Copacabana        3      1       2   \n",
       "27         Apartamento                Copacabana        3      0       0   \n",
       "28         Apartamento  Recreio dos Bandeirantes        3      1       1   \n",
       "29         Apartamento                    Leblon        3      1       0   \n",
       "\n",
       "    Area    Valor  Condominio   IPTU  \n",
       "0     40   1700.0       500.0   60.0  \n",
       "1    100   7000.0         NaN    NaN  \n",
       "2     15    800.0       390.0   20.0  \n",
       "3     48    800.0       230.0    NaN  \n",
       "4     70   1200.0         NaN    NaN  \n",
       "5     50   1300.0       301.0   17.0  \n",
       "6    750  22000.0         NaN    NaN  \n",
       "7     65   1000.0         NaN    NaN  \n",
       "8     36   1200.0         NaN    NaN  \n",
       "9     70   1500.0       642.0   74.0  \n",
       "10    90   1500.0       455.0   14.0  \n",
       "11    40   2000.0       561.0   50.0  \n",
       "12    27   1800.0       501.0    NaN  \n",
       "13   243  13000.0      2000.0  803.0  \n",
       "14   115   2000.0         NaN    NaN  \n",
       "15    54    950.0       300.0   28.0  \n",
       "16    67   1700.0       589.0  147.0  \n",
       "17   110   1900.0       700.0  138.0  \n",
       "18   466   7500.0      2695.0    NaN  \n",
       "19    68   1000.0       670.0    NaN  \n",
       "20    78   2000.0       700.0    NaN  \n",
       "21   125   7000.0      2100.0  463.0  \n",
       "22    48    750.0       772.0   25.0  \n",
       "23   175   4200.0      1500.0  500.0  \n",
       "24   400  12000.0         NaN    NaN  \n",
       "25    76   2500.0       740.0    NaN  \n",
       "26   378  10000.0      2150.0  700.0  \n",
       "27   180   5500.0      1780.0  420.0  \n",
       "28   105   2300.0       648.0    NaN  \n",
       "29   110   3900.0      1500.0  120.0  "
      ],
      "text/html": "<div>\n<style scoped>\n    .dataframe tbody tr th:only-of-type {\n        vertical-align: middle;\n    }\n\n    .dataframe tbody tr th {\n        vertical-align: top;\n    }\n\n    .dataframe thead th {\n        text-align: right;\n    }\n</style>\n<table border=\"1\" class=\"dataframe\">\n  <thead>\n    <tr style=\"text-align: right;\">\n      <th></th>\n      <th>Tipo</th>\n      <th>Bairro</th>\n      <th>Quartos</th>\n      <th>Vagas</th>\n      <th>Suites</th>\n      <th>Area</th>\n      <th>Valor</th>\n      <th>Condominio</th>\n      <th>IPTU</th>\n    </tr>\n  </thead>\n  <tbody>\n    <tr>\n      <th>0</th>\n      <td>Quitinete</td>\n      <td>Copacabana</td>\n      <td>1</td>\n      <td>0</td>\n      <td>0</td>\n      <td>40</td>\n      <td>1700.0</td>\n      <td>500.0</td>\n      <td>60.0</td>\n    </tr>\n    <tr>\n      <th>1</th>\n      <td>Casa</td>\n      <td>Jardim Botânico</td>\n      <td>2</td>\n      <td>0</td>\n      <td>1</td>\n      <td>100</td>\n      <td>7000.0</td>\n      <td>NaN</td>\n      <td>NaN</td>\n    </tr>\n    <tr>\n      <th>2</th>\n      <td>Apartamento</td>\n      <td>Centro</td>\n      <td>1</td>\n      <td>0</td>\n      <td>0</td>\n      <td>15</td>\n      <td>800.0</td>\n      <td>390.0</td>\n      <td>20.0</td>\n    </tr>\n    <tr>\n      <th>3</th>\n      <td>Apartamento</td>\n      <td>Higienópolis</td>\n      <td>1</td>\n      <td>0</td>\n      <td>0</td>\n      <td>48</td>\n      <td>800.0</td>\n      <td>230.0</td>\n      <td>NaN</td>\n    </tr>\n    <tr>\n      <th>4</th>\n      <td>Apartamento</td>\n      <td>Vista Alegre</td>\n      <td>3</td>\n      <td>1</td>\n      <td>0</td>\n      <td>70</td>\n      <td>1200.0</td>\n      <td>NaN</td>\n      <td>NaN</td>\n    </tr>\n    <tr>\n      <th>5</th>\n      <td>Apartamento</td>\n      <td>Cachambi</td>\n      <td>2</td>\n      <td>0</td>\n      <td>0</td>\n      <td>50</td>\n      <td>1300.0</td>\n      <td>301.0</td>\n      <td>17.0</td>\n    </tr>\n    <tr>\n      <th>6</th>\n      <td>Casa de Condomínio</td>\n      <td>Barra da Tijuca</td>\n      <td>5</td>\n      <td>4</td>\n      <td>5</td>\n      <td>750</td>\n      <td>22000.0</td>\n      <td>NaN</td>\n      <td>NaN</td>\n    </tr>\n    <tr>\n      <th>7</th>\n      <td>Casa de Condomínio</td>\n      <td>Ramos</td>\n      <td>2</td>\n      <td>2</td>\n      <td>0</td>\n      <td>65</td>\n      <td>1000.0</td>\n      <td>NaN</td>\n      <td>NaN</td>\n    </tr>\n    <tr>\n      <th>8</th>\n      <td>Apartamento</td>\n      <td>Centro</td>\n      <td>1</td>\n      <td>0</td>\n      <td>0</td>\n      <td>36</td>\n      <td>1200.0</td>\n      <td>NaN</td>\n      <td>NaN</td>\n    </tr>\n    <tr>\n      <th>9</th>\n      <td>Apartamento</td>\n      <td>Grajaú</td>\n      <td>2</td>\n      <td>1</td>\n      <td>0</td>\n      <td>70</td>\n      <td>1500.0</td>\n      <td>642.0</td>\n      <td>74.0</td>\n    </tr>\n    <tr>\n      <th>10</th>\n      <td>Apartamento</td>\n      <td>Lins de Vasconcelos</td>\n      <td>3</td>\n      <td>1</td>\n      <td>1</td>\n      <td>90</td>\n      <td>1500.0</td>\n      <td>455.0</td>\n      <td>14.0</td>\n    </tr>\n    <tr>\n      <th>11</th>\n      <td>Apartamento</td>\n      <td>Copacabana</td>\n      <td>1</td>\n      <td>0</td>\n      <td>1</td>\n      <td>40</td>\n      <td>2000.0</td>\n      <td>561.0</td>\n      <td>50.0</td>\n    </tr>\n    <tr>\n      <th>12</th>\n      <td>Quitinete</td>\n      <td>Copacabana</td>\n      <td>1</td>\n      <td>0</td>\n      <td>0</td>\n      <td>27</td>\n      <td>1800.0</td>\n      <td>501.0</td>\n      <td>NaN</td>\n    </tr>\n    <tr>\n      <th>13</th>\n      <td>Apartamento</td>\n      <td>Copacabana</td>\n      <td>4</td>\n      <td>3</td>\n      <td>1</td>\n      <td>243</td>\n      <td>13000.0</td>\n      <td>2000.0</td>\n      <td>803.0</td>\n    </tr>\n    <tr>\n      <th>14</th>\n      <td>Casa de Condomínio</td>\n      <td>Taquara</td>\n      <td>3</td>\n      <td>1</td>\n      <td>1</td>\n      <td>115</td>\n      <td>2000.0</td>\n      <td>NaN</td>\n      <td>NaN</td>\n    </tr>\n    <tr>\n      <th>15</th>\n      <td>Apartamento</td>\n      <td>Freguesia (Jacarepaguá)</td>\n      <td>3</td>\n      <td>0</td>\n      <td>0</td>\n      <td>54</td>\n      <td>950.0</td>\n      <td>300.0</td>\n      <td>28.0</td>\n    </tr>\n    <tr>\n      <th>16</th>\n      <td>Apartamento</td>\n      <td>Barra da Tijuca</td>\n      <td>2</td>\n      <td>1</td>\n      <td>1</td>\n      <td>67</td>\n      <td>1700.0</td>\n      <td>589.0</td>\n      <td>147.0</td>\n    </tr>\n    <tr>\n      <th>17</th>\n      <td>Apartamento</td>\n      <td>Tijuca</td>\n      <td>2</td>\n      <td>1</td>\n      <td>0</td>\n      <td>110</td>\n      <td>1900.0</td>\n      <td>700.0</td>\n      <td>138.0</td>\n    </tr>\n    <tr>\n      <th>18</th>\n      <td>Casa de Condomínio</td>\n      <td>Barra da Tijuca</td>\n      <td>4</td>\n      <td>3</td>\n      <td>2</td>\n      <td>466</td>\n      <td>7500.0</td>\n      <td>2695.0</td>\n      <td>NaN</td>\n    </tr>\n    <tr>\n      <th>19</th>\n      <td>Apartamento</td>\n      <td>Olaria</td>\n      <td>3</td>\n      <td>1</td>\n      <td>0</td>\n      <td>68</td>\n      <td>1000.0</td>\n      <td>670.0</td>\n      <td>NaN</td>\n    </tr>\n    <tr>\n      <th>20</th>\n      <td>Apartamento</td>\n      <td>Tijuca</td>\n      <td>2</td>\n      <td>1</td>\n      <td>0</td>\n      <td>78</td>\n      <td>2000.0</td>\n      <td>700.0</td>\n      <td>NaN</td>\n    </tr>\n    <tr>\n      <th>21</th>\n      <td>Apartamento</td>\n      <td>Ipanema</td>\n      <td>3</td>\n      <td>1</td>\n      <td>1</td>\n      <td>125</td>\n      <td>7000.0</td>\n      <td>2100.0</td>\n      <td>463.0</td>\n    </tr>\n    <tr>\n      <th>22</th>\n      <td>Apartamento</td>\n      <td>Tijuca</td>\n      <td>1</td>\n      <td>0</td>\n      <td>0</td>\n      <td>48</td>\n      <td>750.0</td>\n      <td>772.0</td>\n      <td>25.0</td>\n    </tr>\n    <tr>\n      <th>23</th>\n      <td>Apartamento</td>\n      <td>Barra da Tijuca</td>\n      <td>3</td>\n      <td>3</td>\n      <td>1</td>\n      <td>175</td>\n      <td>4200.0</td>\n      <td>1500.0</td>\n      <td>500.0</td>\n    </tr>\n    <tr>\n      <th>24</th>\n      <td>Casa</td>\n      <td>Campo Grande</td>\n      <td>4</td>\n      <td>1</td>\n      <td>2</td>\n      <td>400</td>\n      <td>12000.0</td>\n      <td>NaN</td>\n      <td>NaN</td>\n    </tr>\n    <tr>\n      <th>25</th>\n      <td>Apartamento</td>\n      <td>Botafogo</td>\n      <td>2</td>\n      <td>1</td>\n      <td>0</td>\n      <td>76</td>\n      <td>2500.0</td>\n      <td>740.0</td>\n      <td>NaN</td>\n    </tr>\n    <tr>\n      <th>26</th>\n      <td>Apartamento</td>\n      <td>Copacabana</td>\n      <td>3</td>\n      <td>1</td>\n      <td>2</td>\n      <td>378</td>\n      <td>10000.0</td>\n      <td>2150.0</td>\n      <td>700.0</td>\n    </tr>\n    <tr>\n      <th>27</th>\n      <td>Apartamento</td>\n      <td>Copacabana</td>\n      <td>3</td>\n      <td>0</td>\n      <td>0</td>\n      <td>180</td>\n      <td>5500.0</td>\n      <td>1780.0</td>\n      <td>420.0</td>\n    </tr>\n    <tr>\n      <th>28</th>\n      <td>Apartamento</td>\n      <td>Recreio dos Bandeirantes</td>\n      <td>3</td>\n      <td>1</td>\n      <td>1</td>\n      <td>105</td>\n      <td>2300.0</td>\n      <td>648.0</td>\n      <td>NaN</td>\n    </tr>\n    <tr>\n      <th>29</th>\n      <td>Apartamento</td>\n      <td>Leblon</td>\n      <td>3</td>\n      <td>1</td>\n      <td>0</td>\n      <td>110</td>\n      <td>3900.0</td>\n      <td>1500.0</td>\n      <td>120.0</td>\n    </tr>\n  </tbody>\n</table>\n</div>"
     },
     "metadata": {},
     "execution_count": 7
    }
   ],
   "source": [
    "# fix dataframe index\n",
    "residential_properties_dataframe.index = range(residential_properties_dataframe.shape[0])\n",
    "residential_properties_dataframe.head(30)"
   ]
  },
  {
   "cell_type": "code",
   "execution_count": 9,
   "metadata": {},
   "outputs": [],
   "source": [
    "# export this new dataset to a file\n",
    "residential_properties_dataframe.to_csv('/Users/yuribreion/Documents/Python/Pandas/Data Source/aluguel_residencial.csv', sep = ';', index = False)"
   ]
  }
 ]
}