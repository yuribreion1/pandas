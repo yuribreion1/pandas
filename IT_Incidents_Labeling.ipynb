{
  "metadata": {
    "kernelspec": {
      "language": "python",
      "display_name": "Python 3",
      "name": "python3"
    },
    "language_info": {
      "pygments_lexer": "ipython3",
      "nbconvert_exporter": "python",
      "version": "3.6.4",
      "file_extension": ".py",
      "codemirror_mode": {
        "name": "ipython",
        "version": 3
      },
      "name": "python",
      "mimetype": "text/x-python"
    },
    "colab": {
      "name": "IT Incidents Labeling",
      "provenance": [],
      "include_colab_link": true
    }
  },
  "nbformat_minor": 0,
  "nbformat": 4,
  "cells": [
    {
      "cell_type": "markdown",
      "metadata": {
        "id": "view-in-github",
        "colab_type": "text"
      },
      "source": [
        "<a href=\"https://colab.research.google.com/github/yuribreion1/pandas/blob/main/IT_Incidents_Labeling.ipynb\" target=\"_parent\"><img src=\"https://colab.research.google.com/assets/colab-badge.svg\" alt=\"Open In Colab\"/></a>"
      ]
    },
    {
      "source": [
        "# IMPORTANT: RUN THIS CELL IN ORDER TO IMPORT YOUR KAGGLE DATA SOURCES,\n",
        "# THEN FEEL FREE TO DELETE THIS CELL.\n",
        "# NOTE: THIS NOTEBOOK ENVIRONMENT DIFFERS FROM KAGGLE'S PYTHON\n",
        "# ENVIRONMENT SO THERE MAY BE MISSING LIBRARIES USED BY YOUR\n",
        "# NOTEBOOK.\n",
        "import kagglehub\n",
        "macimottin_it_incidents_path = kagglehub.dataset_download('macimottin/it-incidents')\n",
        "\n",
        "print('Data source import complete.')\n"
      ],
      "metadata": {
        "id": "DdDEKsV-DoaM"
      },
      "cell_type": "code",
      "outputs": [],
      "execution_count": null
    },
    {
      "cell_type": "markdown",
      "source": [
        "# Classification of IT Incidents\n",
        "\n",
        "In this Notebook we will create a Machine Learning model to classify IT Incidents based on the description of the incident and the Caller (person who opened the Incident), as our features."
      ],
      "metadata": {
        "id": "DZn34TLbDoaN"
      }
    },
    {
      "cell_type": "markdown",
      "source": [
        "## Importing the Training Dataset\n",
        "In the below instruction we will call pandas and import our training dataset. We will also plot the tail of our dataset for our previous analysis."
      ],
      "metadata": {
        "id": "Z_0X5_PiDoaN"
      }
    },
    {
      "cell_type": "code",
      "source": [
        "# Import pandas package\n",
        "import pandas as pd\n",
        "\n",
        "#Import the training dataset and show it's tail\n",
        "training_dataset = pd.read_excel(\"/kaggle/input/it-incidents/Incidents_Test_Database.xlsx\")\n",
        "training_dataset.tail()"
      ],
      "metadata": {
        "execution": {
          "iopub.status.busy": "2023-02-14T20:46:31.536557Z",
          "iopub.execute_input": "2023-02-14T20:46:31.53746Z",
          "iopub.status.idle": "2023-02-14T20:46:31.770923Z",
          "shell.execute_reply.started": "2023-02-14T20:46:31.537367Z",
          "shell.execute_reply": "2023-02-14T20:46:31.770001Z"
        },
        "trusted": true,
        "id": "xrdx6B0YDoaO"
      },
      "execution_count": null,
      "outputs": []
    },
    {
      "cell_type": "markdown",
      "source": [
        "## Vectorize the Incidents Descriptions\n",
        "In order to use the Incident Description as a feature in our Machine Learning Model, we will need to transform the string into a vector, so the data will be \"readable\" by our model. For this specific model, we will be transforming the Incident Description using TF-IDF model, that will transform the data into a CSR Matrix (Compressed Sparse Row Matrix).\n",
        "\n",
        "*You can find rich content about strings vectorization in the following link:*  \n",
        "https://towardsdatascience.com/getting-started-with-text-vectorization-2f2efbec6685"
      ],
      "metadata": {
        "id": "Vi9JJpOADoaO"
      }
    },
    {
      "cell_type": "code",
      "source": [
        "#Import TF-IDF package from Sklearn\n",
        "from sklearn.feature_extraction.text import TfidfVectorizer\n",
        "\n",
        "#Separate the description in a pandas Series\n",
        "inc_description = training_dataset['description']\n",
        "\n",
        "# Create a TF-IDF vectorizer\n",
        "vectorizer = TfidfVectorizer()\n",
        "\n",
        "# Transform the input variable into a TF-IDF matrix\n",
        "vec_description = vectorizer.fit_transform(inc_description)"
      ],
      "metadata": {
        "execution": {
          "iopub.status.busy": "2023-02-14T20:46:31.775547Z",
          "iopub.execute_input": "2023-02-14T20:46:31.776077Z",
          "iopub.status.idle": "2023-02-14T20:46:32.263442Z",
          "shell.execute_reply.started": "2023-02-14T20:46:31.776044Z",
          "shell.execute_reply": "2023-02-14T20:46:32.26251Z"
        },
        "trusted": true,
        "id": "p08ax_4nDoaO"
      },
      "execution_count": null,
      "outputs": []
    },
    {
      "cell_type": "markdown",
      "source": [
        "## Transform the CSR Matrix into a pandas Data Frame\n",
        "Since we will be using two features as the inputs of our Machine Learning Model, we will need to have the 'Incident Description' and the 'Caller' in the same data frame, to be used by the model. For this reason we will tranform the CSR Matrix into a pandas data frame, then we will be merging the Caller data in it prior to train our model."
      ],
      "metadata": {
        "id": "SY3f723XDoaO"
      }
    },
    {
      "cell_type": "code",
      "source": [
        "#Import scipy package to work with a csr matrix\n",
        "from scipy.sparse import csr_matrix\n",
        "\n",
        "#Transform the spase matrix into a data frame and show it's tail\n",
        "vec_desc_df = pd.DataFrame.sparse.from_spmatrix(vec_description)\n",
        "vec_desc_df.tail()"
      ],
      "metadata": {
        "execution": {
          "iopub.status.busy": "2023-02-14T20:46:32.264748Z",
          "iopub.execute_input": "2023-02-14T20:46:32.265241Z",
          "iopub.status.idle": "2023-02-14T20:46:32.3209Z",
          "shell.execute_reply.started": "2023-02-14T20:46:32.265211Z",
          "shell.execute_reply": "2023-02-14T20:46:32.31979Z"
        },
        "trusted": true,
        "id": "XNdBPZ00DoaO"
      },
      "execution_count": null,
      "outputs": []
    },
    {
      "cell_type": "markdown",
      "source": [
        "## Transform the vectorized description data frame column names into strings\n",
        "You may have noticed that the vectorized data frame created in the previous instructions, were all named with integers in the column names. In the latest python versions a data frame with integer as the name of the columns cannot be processed. For this reason I added the following code to transform the columns into strings. First we create a loop function to create a dictionary to store the strings to replace the names in the data frame. After that, we use the pandas function 'rename' to replace the column names by the data stored in the dictionary created previously."
      ],
      "metadata": {
        "id": "H3BZfFTvDoaP"
      }
    },
    {
      "cell_type": "code",
      "source": [
        "# Get the quantity of columns from 'vec_desc_df' data frame\n",
        "num_cols = vec_desc_df.shape[1]\n",
        "\n",
        "# Create a dictionary to store the new column names\n",
        "col_names = {}\n",
        "for i in range(num_cols):\n",
        "    col_names[i] = 'col_' + str(i)\n",
        "\n",
        "# Rename the columns with the new values stored in the dictionary\n",
        "vec_desc_df = vec_desc_df.rename(columns=col_names)\n",
        "vec_desc_df.tail()"
      ],
      "metadata": {
        "execution": {
          "iopub.status.busy": "2023-02-14T20:46:32.324617Z",
          "iopub.execute_input": "2023-02-14T20:46:32.325265Z",
          "iopub.status.idle": "2023-02-14T20:46:32.386016Z",
          "shell.execute_reply.started": "2023-02-14T20:46:32.325219Z",
          "shell.execute_reply": "2023-02-14T20:46:32.38488Z"
        },
        "trusted": true,
        "id": "PFujQA6hDoaP"
      },
      "execution_count": null,
      "outputs": []
    },
    {
      "cell_type": "markdown",
      "source": [
        "## Transforming the 'Caller' Column into a Dummy Table\n",
        "The 'Caller' column is considered categorical data, and we will need to treat it as well in order to make the data 'readable' within our model. A way to make this data readable by our model is to tranform the data into a dummy table. For this specific scenario, we will use a technique called One-Hot-Encoder.\n",
        "\n",
        "*You can find detailed information about encoding categorical variables in the following link:*  \n",
        "https://towardsdatascience.com/categorical-encoding-using-label-encoding-and-one-hot-encoder-911ef77fb5bd"
      ],
      "metadata": {
        "id": "lM48keKEDoaP"
      }
    },
    {
      "cell_type": "code",
      "source": [
        "# Get 'Caller' unique values from the main data frame\n",
        "Caller_only = training_dataset['caller'].astype(str)\n",
        "Caller_only_uniques = Caller_only.drop_duplicates()\n",
        "Caller_final = pd.DataFrame({'caller':Caller_only_uniques})\n",
        "\n",
        "# Creating the dummy codes for the Callers\n",
        "dum_df = pd.get_dummies(Caller_final, columns=[\"caller\"], prefix=[\"Caller\"])\n",
        "Caller_final = Caller_final.join(dum_df)\n",
        "Caller_final"
      ],
      "metadata": {
        "execution": {
          "iopub.status.busy": "2023-02-14T20:46:32.387328Z",
          "iopub.execute_input": "2023-02-14T20:46:32.387674Z",
          "iopub.status.idle": "2023-02-14T20:46:32.409214Z",
          "shell.execute_reply.started": "2023-02-14T20:46:32.387644Z",
          "shell.execute_reply": "2023-02-14T20:46:32.408032Z"
        },
        "trusted": true,
        "id": "ePkv776kDoaP"
      },
      "execution_count": null,
      "outputs": []
    },
    {
      "cell_type": "markdown",
      "source": [
        "## Left Join the Vectorized Incident Descriptions Data Frame with the Caller Dummy Table\n",
        "Now that we already transformed the Incident Descriptions into vectors and the Caller into a dummy table, we need make both data frames into a single one, that will be processed in the model as the input variables. We will be doing that in two steps:\n",
        "\n",
        "**1. Assign the Caller column in the vectorized description data frame**  \n",
        "Since the vectorized data frame was created respecting the dataset order and maintained the same quantity of rows, we will be assigning the Caller column from the dataset, as is.\n",
        "\n",
        "**2. Left Joing the Caller Dummy table columns in the vectorized description data frame**   \n",
        "After having the Caller in the vectorized description data frame, we will be using this column as the key to left join the dummy table values, to generate the final features dataframe.\n",
        "\n",
        "<span style=\"color:blue;\">The result of the following code is the final features data frame, and the data is ready to run in the model!</span>"
      ],
      "metadata": {
        "id": "XJV5e594DoaP"
      }
    },
    {
      "cell_type": "code",
      "source": [
        "# Assign the 'Caller' column in the vectorized description data frame\n",
        "vec_desc_df = pd.concat([vec_desc_df, Caller_only],axis=1)\n",
        "\n",
        "# Left join the dummy table information in the vectorized description data frame and drop the 'caller' column from the final result\n",
        "features_final = vec_desc_df.merge(Caller_final, on='caller', how='left')\n",
        "features_final = features_final.drop('caller',axis=1)\n",
        "features_final.tail()"
      ],
      "metadata": {
        "execution": {
          "iopub.status.busy": "2023-02-14T20:46:32.410385Z",
          "iopub.execute_input": "2023-02-14T20:46:32.410731Z",
          "iopub.status.idle": "2023-02-14T20:46:32.491303Z",
          "shell.execute_reply.started": "2023-02-14T20:46:32.410701Z",
          "shell.execute_reply": "2023-02-14T20:46:32.490222Z"
        },
        "trusted": true,
        "id": "poOcV8FMDoaP"
      },
      "execution_count": null,
      "outputs": []
    },
    {
      "cell_type": "markdown",
      "source": [
        "## Train the dataset with a Logistic Regression Model\n",
        "In this Machine Learning application we will be using a Logistic Regression model to predict the labeling of new incidents.\n",
        "\n",
        "*You can find detailed information about Logistic Regression in the following link:*  \n",
        "https://www.kdnuggets.com/2022/07/logistic-regression-work.html"
      ],
      "metadata": {
        "id": "uKYrxsDPDoaP"
      }
    },
    {
      "cell_type": "code",
      "source": [
        "# Import required packages for the dataset training\n",
        "from sklearn.model_selection import train_test_split\n",
        "from sklearn.linear_model import LogisticRegression\n",
        "from sklearn.metrics import accuracy_score\n",
        "\n",
        "# Assign the labels into a pandas Series, to be used in the Model\n",
        "y = training_dataset['label']\n",
        "\n",
        "# Split the data into training and test sets\n",
        "X_train, X_test, y_train, y_test = train_test_split(features_final, y, test_size=0.2, random_state=42)\n",
        "\n",
        "# Train a logistic regression model\n",
        "clf = LogisticRegression()\n",
        "clf.fit(X_train, y_train)\n",
        "\n",
        "# Predict the labels for the test set\n",
        "y_pred = clf.predict(X_test)\n",
        "\n",
        "# Check the Models Accurracy and print it to the user\n",
        "accuracy = accuracy_score(y_test, y_pred)\n",
        "print(\"Accuracy:\", accuracy)"
      ],
      "metadata": {
        "execution": {
          "iopub.status.busy": "2023-02-14T20:46:32.493149Z",
          "iopub.execute_input": "2023-02-14T20:46:32.493684Z",
          "iopub.status.idle": "2023-02-14T20:46:32.641972Z",
          "shell.execute_reply.started": "2023-02-14T20:46:32.493639Z",
          "shell.execute_reply": "2023-02-14T20:46:32.640469Z"
        },
        "trusted": true,
        "id": "apXXstWWDoaP"
      },
      "execution_count": null,
      "outputs": []
    },
    {
      "cell_type": "markdown",
      "source": [
        "# Predict the labels of new Incidents\n",
        "Now that we have the dataset trained, we may test the Artificial Intelligence we generated with the model to predict a few new Incidents that occured and were not yet labeled. The model will predict their labels!"
      ],
      "metadata": {
        "id": "BSbWoW0DDoaQ"
      }
    },
    {
      "cell_type": "markdown",
      "source": [
        "## Load not labeled Incidents dataset\n",
        "In the following instruction, we are loading a few incidents that are not yet labeled."
      ],
      "metadata": {
        "id": "apOgtu_qDoaQ"
      }
    },
    {
      "cell_type": "code",
      "source": [
        "# Import new incidents and print it's tail\n",
        "new_incidents = pd.read_excel(\"/kaggle/input/it-incidents/new_incidents.xlsx\")\n",
        "new_incidents.drop('label', axis=1, inplace=True)\n",
        "new_incidents.tail()"
      ],
      "metadata": {
        "execution": {
          "iopub.status.busy": "2023-02-14T20:46:32.643537Z",
          "iopub.execute_input": "2023-02-14T20:46:32.644209Z",
          "iopub.status.idle": "2023-02-14T20:46:32.706005Z",
          "shell.execute_reply.started": "2023-02-14T20:46:32.644176Z",
          "shell.execute_reply": "2023-02-14T20:46:32.70417Z"
        },
        "trusted": true,
        "id": "2h5uSe04DoaQ"
      },
      "execution_count": null,
      "outputs": []
    },
    {
      "cell_type": "markdown",
      "source": [
        "## Format the New Incidents dataset inputs like the training dataset\n",
        "In order to use the model to predict the labels for new incidents, we will need to transform the inputs of the new incidents in the same way we did for the training data set. In the following code instructions I will do this in a resumed way, since the full explanation was already detailed in this Notebook, in the previous instructions."
      ],
      "metadata": {
        "id": "PbzOQa_UDoaQ"
      }
    },
    {
      "cell_type": "code",
      "source": [
        "# Vectorize the description of the new incidents\n",
        "new_data_vectorized = vectorizer.transform(new_incidents['description'])\n",
        "vec_desc_df2 = pd.DataFrame.sparse.from_spmatrix(new_data_vectorized)\n",
        "vec_desc_df2.tail()"
      ],
      "metadata": {
        "execution": {
          "iopub.status.busy": "2023-02-14T20:46:32.708862Z",
          "iopub.execute_input": "2023-02-14T20:46:32.710004Z",
          "iopub.status.idle": "2023-02-14T20:46:32.776671Z",
          "shell.execute_reply.started": "2023-02-14T20:46:32.709939Z",
          "shell.execute_reply": "2023-02-14T20:46:32.775652Z"
        },
        "trusted": true,
        "id": "kuklZh1pDoaQ"
      },
      "execution_count": null,
      "outputs": []
    },
    {
      "cell_type": "code",
      "source": [
        "# Change the column names from the vectorized description data frame\n",
        "num_cols = vec_desc_df2.shape[1]\n",
        "\n",
        "col_names = {}\n",
        "for i in range(num_cols):\n",
        "    col_names[i] = 'col_' + str(i)\n",
        "\n",
        "vec_desc_df2 = vec_desc_df2.rename(columns=col_names)\n",
        "vec_desc_df2.tail()"
      ],
      "metadata": {
        "execution": {
          "iopub.status.busy": "2023-02-14T20:46:32.77853Z",
          "iopub.execute_input": "2023-02-14T20:46:32.778969Z",
          "iopub.status.idle": "2023-02-14T20:46:32.835086Z",
          "shell.execute_reply.started": "2023-02-14T20:46:32.778928Z",
          "shell.execute_reply": "2023-02-14T20:46:32.834014Z"
        },
        "trusted": true,
        "id": "mNVl3mHYDoaQ"
      },
      "execution_count": null,
      "outputs": []
    },
    {
      "cell_type": "code",
      "source": [
        "# Bring the 'Caller' to the vectorized descriptions dataframe\n",
        "new_callers = new_incidents['caller']\n",
        "semi = pd.concat([vec_desc_df2, new_callers], axis=1)\n",
        "semi.tail()"
      ],
      "metadata": {
        "execution": {
          "iopub.status.busy": "2023-02-14T20:46:32.83854Z",
          "iopub.execute_input": "2023-02-14T20:46:32.839174Z",
          "iopub.status.idle": "2023-02-14T20:46:32.890866Z",
          "shell.execute_reply.started": "2023-02-14T20:46:32.839131Z",
          "shell.execute_reply": "2023-02-14T20:46:32.889671Z"
        },
        "trusted": true,
        "id": "bHdgHhzCDoaQ"
      },
      "execution_count": null,
      "outputs": []
    },
    {
      "cell_type": "code",
      "source": [
        "# Merge the Dummy table information with the vectorized descriptions data frame\n",
        "new_inc_final = semi.merge(Caller_final, on='caller', how='left')\n",
        "new_inc_final = new_inc_final.drop('caller',axis=1)\n",
        "new_inc_final.tail()"
      ],
      "metadata": {
        "execution": {
          "iopub.status.busy": "2023-02-14T20:46:32.893732Z",
          "iopub.execute_input": "2023-02-14T20:46:32.89417Z",
          "iopub.status.idle": "2023-02-14T20:46:32.964334Z",
          "shell.execute_reply.started": "2023-02-14T20:46:32.894127Z",
          "shell.execute_reply": "2023-02-14T20:46:32.963498Z"
        },
        "trusted": true,
        "id": "NJ_GfJzkDoaQ"
      },
      "execution_count": null,
      "outputs": []
    },
    {
      "cell_type": "markdown",
      "source": [
        "## Run the Model to predict the labels\n",
        "In the following command, the model will run with the parameters defined with the training dataset to label the new incidents."
      ],
      "metadata": {
        "id": "6iTbBIGZDoaQ"
      }
    },
    {
      "cell_type": "code",
      "source": [
        "# Predict the labels for the new data\n",
        "new_data_pred = clf.predict(new_inc_final)\n",
        "new_incidents['label'] = new_data_pred\n",
        "new_incidents.rename(columns={'label': 'predicted_label'}, inplace=True)\n",
        "new_incidents\n"
      ],
      "metadata": {
        "execution": {
          "iopub.status.busy": "2023-02-14T20:46:32.967082Z",
          "iopub.execute_input": "2023-02-14T20:46:32.967422Z",
          "iopub.status.idle": "2023-02-14T20:46:33.001986Z",
          "shell.execute_reply.started": "2023-02-14T20:46:32.967391Z",
          "shell.execute_reply": "2023-02-14T20:46:33.000676Z"
        },
        "trusted": true,
        "id": "PB3vKgthDoaQ"
      },
      "execution_count": null,
      "outputs": []
    },
    {
      "cell_type": "markdown",
      "source": [
        "# Generate a simple bar chart with incidents by label\n",
        "\n",
        "1. Consider the import of `matplotlib`\n",
        "2. With the dataset loaded, following the previous steps.\n",
        "3. Consider the plot as bar where the `dataset_variable_name['label'].value_counts()` is the datasource\n",
        "4. Use the code below:"
      ],
      "metadata": {
        "id": "ZJn6BUDhD8qm"
      }
    },
    {
      "cell_type": "code",
      "source": [
        "import kagglehub\n",
        "macimottin_it_incidents_path = kagglehub.dataset_download('macimottin/it-incidents')\n",
        "\n",
        "import matplotlib as plt\n",
        "import pandas as pd\n",
        "\n",
        "incidents_test = pd.read_excel(macimottin_it_incidents_path + \"/Incidents_Test_Database.xlsx\")\n",
        "\n",
        "label_counts = incidents_test['label'].value_counts()\n",
        "label_counts.plot(kind='bar')"
      ],
      "metadata": {
        "id": "IEhvvQ-AExqa",
        "outputId": "919c5066-4adb-4424-e856-c1e9ce401480",
        "colab": {
          "base_uri": "https://localhost:8080/",
          "height": 631
        }
      },
      "execution_count": 9,
      "outputs": [
        {
          "output_type": "execute_result",
          "data": {
            "text/plain": [
              "<Axes: xlabel='label'>"
            ]
          },
          "metadata": {},
          "execution_count": 9
        },
        {
          "output_type": "display_data",
          "data": {
            "text/plain": [
              "<Figure size 640x480 with 1 Axes>"
            ],
            "image/png": "[encoded data removed]"
          },
          "metadata": {}
        }
      ]
    }
  ]
}